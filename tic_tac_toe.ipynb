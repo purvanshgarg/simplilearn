{
  "nbformat": 4,
  "nbformat_minor": 0,
  "metadata": {
    "colab": {
      "name": "tic_tac_toe.ipynb",
      "provenance": [],
      "authorship_tag": "ABX9TyM4eYncNdxwhvYFo8rAlvZM",
      "include_colab_link": true
    },
    "kernelspec": {
      "name": "python3",
      "display_name": "Python 3"
    },
    "language_info": {
      "name": "python"
    }
  },
  "cells": [
    {
      "cell_type": "markdown",
      "metadata": {
        "id": "view-in-github",
        "colab_type": "text"
      },
      "source": [
        "<a href=\"https://colab.research.google.com/github/purvanshgarg/simplilearn/blob/main/tic_tac_toe.ipynb\" target=\"_parent\"><img src=\"https://colab.research.google.com/assets/colab-badge.svg\" alt=\"Open In Colab\"/></a>"
      ]
    },
    {
      "cell_type": "code",
      "metadata": {
        "id": "19Qgme68glDf"
      },
      "source": [
        "import numpy as np\n",
        "import pickle"
      ],
      "execution_count": 1,
      "outputs": []
    },
    {
      "cell_type": "code",
      "metadata": {
        "id": "CyfsZS8VfHA8"
      },
      "source": [
        "class State:\n",
        "  def__init__(self,p1,p2):\n",
        "    self.board=np.zeroes((BOARD_ROWS,BOARD_COLS))\n",
        "    self.p1=p1\n",
        "    self.p2=p2\n",
        "    self.isEnd=False\n",
        "    self.boardHash=None\n",
        "    self.playerSymbol=1\n",
        "  def getHash(self):\n",
        "    self.boardHash=str(self.board.reshape(BOARD_COLS*BOARD_ROWS))\n",
        "    rerurn self.boardHash\n",
        "  def winner(self):\n",
        "    for i in range(BOARD_ROWS):\n",
        "      if sum(self.board[i,:])==3:\n",
        "        self.isEnd=True\n",
        "        return 1\n",
        "      if sum(self.board[i,:])==-3:\n",
        "        self.isEnd=True\n",
        "        return -1\n",
        "    for i in range(BOARD_COLS):\n",
        "      if sum(self.board[i,:])==3:\n",
        "        self.isEnd=True\n",
        "        return 1\n",
        "      if sum(self.board[i,:])==-3:\n",
        "        self.isEnd=True\n",
        "        return -1\n",
        "    diag_sum1=sum([self.board[i,i] for i in range(BOARD_COLS)])\n",
        "    diag_sum2=sum([self.board[i,BOARD_COLS-i-1] for i in range(BOARD_COLS)])\n",
        "    diag_sum=max(diag_sum1,diag_sum2) \n",
        "    if diag_sum==3:\n",
        "      self.isEnd=True\n",
        "      return 1\n",
        "    if diag_sum==-3:\n",
        "      self.isEnd=True\n",
        "      return -1\n",
        "\n",
        "    if len(self.availablePositions())==0:\n",
        "      self.isEnd=True\n",
        "      return 0\n",
        "   self.isEnd=False\n",
        "   return None\n",
        "\n",
        " def availablePositions(self):\n",
        "   pos=[]\n",
        "   for i in range(BOARD_ROWS):\n",
        "     for j in range(BOARD_COLS):\n",
        "       if self.board[i,j]==0:\n",
        "         pos.append((i,j))\n",
        "   return pos\n",
        "\n",
        " def updateState(self,pos):\n",
        "   self.board[pos]=self.playerSymbol\n",
        "   self.playerSymbol=-1 if self.playerSymbol ==1 else 1\n",
        " def giveReward(self):\n",
        "   res=self.winner()\n",
        "   if res==1:\n",
        "     self.p1.feedReward(1)\n",
        "     self.p2.feedReward(0)\n",
        "   elif res==-1:\n",
        "     self.p1.feedReward(0)\n",
        "     self.p2.feedReward(1)\n",
        "   else:\n",
        "     self.p1.feedReward(0.1)\n",
        "     self.p2.feedReward(0.5)    \n",
        "\n",
        " def rest(self):\n",
        "   self.board=np.zeroes((BOARD_ROWS,BOARD_COLS))\n",
        "   self.isEnd=False\n",
        "   self.boardHash=None\n",
        "   self.playerSymbol=1\n",
        "\n",
        " def play(self,rounds=100):\n",
        "   for i in range(rounds):\n",
        "     if i%1000==0:\n",
        "       print(\"Rounds {}\".format(i))\n",
        "     while not self.isEnd:\n",
        "       \n"
      ],
      "execution_count": null,
      "outputs": []
    }
  ]
}